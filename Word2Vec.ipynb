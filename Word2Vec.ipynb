{
 "cells": [
  {
   "cell_type": "code",
   "execution_count": 1,
   "id": "8dd4aa3b",
   "metadata": {},
   "outputs": [],
   "source": [
    "from gensim.models import Word2Vec\n",
    "from nltk.tokenize import word_tokenize\n",
    "\n",
    "# Sample data\n",
    "sentences = [\n",
    "    \"I love deep learning\",\n",
    "    \"Deep learning is part of AI\",\n",
    "    \"Word embeddings capture meaning\",\n",
    "    \"I love NLP\"\n",
    "]"
   ]
  },
  {
   "cell_type": "code",
   "execution_count": 2,
   "id": "18996c10",
   "metadata": {},
   "outputs": [
    {
     "name": "stdout",
     "output_type": "stream",
     "text": [
      "Requirement already satisfied: gensim in c:\\users\\scl\\anaconda3\\envs\\assignment_grader\\lib\\site-packages (4.3.3)\n",
      "Requirement already satisfied: numpy<2.0,>=1.18.5 in c:\\users\\scl\\anaconda3\\envs\\assignment_grader\\lib\\site-packages (from gensim) (1.26.4)\n",
      "Requirement already satisfied: scipy<1.14.0,>=1.7.0 in c:\\users\\scl\\anaconda3\\envs\\assignment_grader\\lib\\site-packages (from gensim) (1.13.1)\n",
      "Requirement already satisfied: smart-open>=1.8.1 in c:\\users\\scl\\anaconda3\\envs\\assignment_grader\\lib\\site-packages (from gensim) (7.3.0.post1)\n",
      "Requirement already satisfied: wrapt in c:\\users\\scl\\anaconda3\\envs\\assignment_grader\\lib\\site-packages (from smart-open>=1.8.1->gensim) (1.17.2)\n",
      "Note: you may need to restart the kernel to use updated packages.\n"
     ]
    }
   ],
   "source": [
    "pip install gensim"
   ]
  },
  {
   "cell_type": "code",
   "execution_count": 4,
   "id": "dbd9413a",
   "metadata": {},
   "outputs": [],
   "source": [
    "word_tokenize = [word_tokenize(i.lower()) for i in sentences]"
   ]
  },
  {
   "cell_type": "code",
   "execution_count": 5,
   "id": "18db02fb",
   "metadata": {},
   "outputs": [
    {
     "data": {
      "text/plain": [
       "[['i', 'love', 'deep', 'learning'],\n",
       " ['deep', 'learning', 'is', 'part', 'of', 'ai'],\n",
       " ['word', 'embeddings', 'capture', 'meaning'],\n",
       " ['i', 'love', 'nlp']]"
      ]
     },
     "execution_count": 5,
     "metadata": {},
     "output_type": "execute_result"
    }
   ],
   "source": [
    "list(word_tokenize)\n"
   ]
  },
  {
   "cell_type": "code",
   "execution_count": 16,
   "id": "dcafdf3b",
   "metadata": {},
   "outputs": [],
   "source": [
    "model_cbow = Word2Vec(sentences=word_tokenize,vector_size=10,window=2,min_count=1,sg=0)"
   ]
  },
  {
   "cell_type": "code",
   "execution_count": 17,
   "id": "859382af",
   "metadata": {},
   "outputs": [],
   "source": [
    "model_skip_gram = Word2Vec(sentences=word_tokenize,vector_size=10,window=2,min_count=1,sg=1)"
   ]
  },
  {
   "cell_type": "code",
   "execution_count": 18,
   "id": "be792127",
   "metadata": {},
   "outputs": [
    {
     "data": {
      "text/plain": [
       "[('of', 0.4705280661582947),\n",
       " ('embeddings', 0.42731544375419617),\n",
       " ('deep', 0.32937225699424744),\n",
       " ('learning', 0.3004249036312103),\n",
       " ('is', 0.30031460523605347),\n",
       " ('ai', 0.055418115109205246),\n",
       " ('part', -0.04376709833741188),\n",
       " ('capture', -0.08937527984380722),\n",
       " ('i', -0.1055101752281189),\n",
       " ('word', -0.11288784444332123)]"
      ]
     },
     "execution_count": 18,
     "metadata": {},
     "output_type": "execute_result"
    }
   ],
   "source": [
    "model_cbow.wv.most_similar('love')"
   ]
  },
  {
   "cell_type": "code",
   "execution_count": 19,
   "id": "12610276",
   "metadata": {},
   "outputs": [
    {
     "data": {
      "text/plain": [
       "[('of', 0.47054415941238403),\n",
       " ('embeddings', 0.42731544375419617),\n",
       " ('deep', 0.32937225699424744),\n",
       " ('learning', 0.3004249036312103),\n",
       " ('is', 0.30028384923934937),\n",
       " ('ai', 0.05541813746094704),\n",
       " ('part', -0.04376709833741188),\n",
       " ('capture', -0.08937527984380722),\n",
       " ('i', -0.1055101752281189),\n",
       " ('word', -0.11288784444332123)]"
      ]
     },
     "execution_count": 19,
     "metadata": {},
     "output_type": "execute_result"
    }
   ],
   "source": [
    "model_skip_gram.wv.most_similar('love')"
   ]
  },
  {
   "cell_type": "code",
   "execution_count": 20,
   "id": "c108a71a",
   "metadata": {},
   "outputs": [
    {
     "data": {
      "text/plain": [
       "array([ 0.07311766,  0.05070262,  0.06757693,  0.00762866,  0.06350891,\n",
       "       -0.03405366, -0.00946401,  0.05768573, -0.07521638, -0.03936104],\n",
       "      dtype=float32)"
      ]
     },
     "execution_count": 20,
     "metadata": {},
     "output_type": "execute_result"
    }
   ],
   "source": [
    "model_cbow.wv['love']"
   ]
  },
  {
   "cell_type": "code",
   "execution_count": 21,
   "id": "fc2e114a",
   "metadata": {},
   "outputs": [
    {
     "data": {
      "text/plain": [
       "array([-0.00536227,  0.00236431,  0.0510335 ,  0.09009273, -0.0930295 ,\n",
       "       -0.07116809,  0.06458873,  0.08972988, -0.05015428, -0.03763372],\n",
       "      dtype=float32)"
      ]
     },
     "execution_count": 21,
     "metadata": {},
     "output_type": "execute_result"
    }
   ],
   "source": [
    "model_cbow.wv['learning']"
   ]
  },
  {
   "cell_type": "code",
   "execution_count": null,
   "id": "b238ab43",
   "metadata": {},
   "outputs": [],
   "source": []
  }
 ],
 "metadata": {
  "kernelspec": {
   "display_name": "assignment_grader",
   "language": "python",
   "name": "python3"
  },
  "language_info": {
   "codemirror_mode": {
    "name": "ipython",
    "version": 3
   },
   "file_extension": ".py",
   "mimetype": "text/x-python",
   "name": "python",
   "nbconvert_exporter": "python",
   "pygments_lexer": "ipython3",
   "version": "3.10.16"
  }
 },
 "nbformat": 4,
 "nbformat_minor": 5
}
